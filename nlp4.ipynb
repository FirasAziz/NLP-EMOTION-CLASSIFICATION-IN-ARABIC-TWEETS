{
 "cells": [
  {
   "cell_type": "code",
   "execution_count": 206,
   "id": "abda07d2",
   "metadata": {},
   "outputs": [],
   "source": [
    "# lib:\n",
    "import re\n",
    "import nltk\n",
    "from nltk.corpus import stopwords\n",
    "from nltk.tokenize import word_tokenize\n",
    "import numpy as np\n",
    "import pandas as pd\n",
    "from gensim.models import KeyedVectors\n",
    "from gensim.utils import simple_preprocess\n",
    "from sklearn.feature_extraction.text import TfidfVectorizer\n",
    "from sklearn.feature_extraction.text import CountVectorizer\n",
    "from sklearn.model_selection import train_test_split, GridSearchCV\n",
    "from sklearn.pipeline import Pipeline\n",
    "from sklearn.preprocessing import StandardScaler, LabelEncoder\n",
    "from sklearn.metrics import classification_report\n",
    "from sklearn.naive_bayes import GaussianNB, MultinomialNB\n",
    "from sklearn.svm import SVC\n",
    "from sklearn.tree import DecisionTreeClassifier\n",
    "from sklearn.ensemble import RandomForestClassifier, AdaBoostClassifier\n",
    "import gensim.models\n",
    "import gensim\n",
    "from keras.utils import to_categorical\n",
    "from tensorflow.keras.preprocessing.text import Tokenizer\n",
    "from tensorflow.keras.preprocessing.sequence import pad_sequences\n",
    "from tensorflow.keras.models import Sequential\n",
    "from tensorflow.keras.layers import Embedding, Bidirectional, LSTM, Dropout, Dense\n",
    "from tensorflow.keras.callbacks import EarlyStopping\n",
    "from tensorflow.keras.utils import to_categorical\n"
   ]
  },
  {
   "cell_type": "code",
   "execution_count": 207,
   "id": "08190348",
   "metadata": {},
   "outputs": [
    {
     "name": "stderr",
     "output_type": "stream",
     "text": [
      "[nltk_data] Downloading package stopwords to\n",
      "[nltk_data]     C:\\Users\\user\\AppData\\Roaming\\nltk_data...\n",
      "[nltk_data]   Package stopwords is already up-to-date!\n"
     ]
    },
    {
     "data": {
      "text/plain": [
       "True"
      ]
     },
     "execution_count": 207,
     "metadata": {},
     "output_type": "execute_result"
    }
   ],
   "source": [
    "nltk.download('stopwords')\n"
   ]
  },
  {
   "cell_type": "markdown",
   "id": "8111686f",
   "metadata": {},
   "source": [
    "# part one "
   ]
  },
  {
   "cell_type": "code",
   "execution_count": 208,
   "id": "425f3876",
   "metadata": {},
   "outputs": [],
   "source": [
    "# Load the dataset\n",
    "df = pd.read_csv(\"Emotional-Tone-Dataset.csv\")"
   ]
  },
  {
   "cell_type": "code",
   "execution_count": 209,
   "id": "576b7cce",
   "metadata": {},
   "outputs": [
    {
     "data": {
      "text/html": [
       "<div>\n",
       "<style scoped>\n",
       "    .dataframe tbody tr th:only-of-type {\n",
       "        vertical-align: middle;\n",
       "    }\n",
       "\n",
       "    .dataframe tbody tr th {\n",
       "        vertical-align: top;\n",
       "    }\n",
       "\n",
       "    .dataframe thead th {\n",
       "        text-align: right;\n",
       "    }\n",
       "</style>\n",
       "<table border=\"1\" class=\"dataframe\">\n",
       "  <thead>\n",
       "    <tr style=\"text-align: right;\">\n",
       "      <th></th>\n",
       "      <th>ID</th>\n",
       "      <th>TWEET</th>\n",
       "      <th>LABEL</th>\n",
       "    </tr>\n",
       "  </thead>\n",
       "  <tbody>\n",
       "    <tr>\n",
       "      <th>0</th>\n",
       "      <td>1</td>\n",
       "      <td>الاوليمبياد الجايه هكون لسه ف الكليه ..</td>\n",
       "      <td>none</td>\n",
       "    </tr>\n",
       "    <tr>\n",
       "      <th>1</th>\n",
       "      <td>2</td>\n",
       "      <td>عجز الموازنه وصل ل93.7 % من الناتج المحلي يعني...</td>\n",
       "      <td>anger</td>\n",
       "    </tr>\n",
       "    <tr>\n",
       "      <th>2</th>\n",
       "      <td>3</td>\n",
       "      <td>كتنا نيله ف حظنا الهباب xD</td>\n",
       "      <td>sadness</td>\n",
       "    </tr>\n",
       "    <tr>\n",
       "      <th>3</th>\n",
       "      <td>4</td>\n",
       "      <td>جميعنا نريد تحقيق اهدافنا لكن تونس تالقت في حر...</td>\n",
       "      <td>joy</td>\n",
       "    </tr>\n",
       "    <tr>\n",
       "      <th>4</th>\n",
       "      <td>5</td>\n",
       "      <td>الاوليمبياد نظامها مختلف .. ومواعيد المونديال ...</td>\n",
       "      <td>none</td>\n",
       "    </tr>\n",
       "  </tbody>\n",
       "</table>\n",
       "</div>"
      ],
      "text/plain": [
       "   ID                                              TWEET    LABEL\n",
       "0   1            الاوليمبياد الجايه هكون لسه ف الكليه ..     none\n",
       "1   2  عجز الموازنه وصل ل93.7 % من الناتج المحلي يعني...    anger\n",
       "2   3                         كتنا نيله ف حظنا الهباب xD  sadness\n",
       "3   4  جميعنا نريد تحقيق اهدافنا لكن تونس تالقت في حر...      joy\n",
       "4   5  الاوليمبياد نظامها مختلف .. ومواعيد المونديال ...     none"
      ]
     },
     "execution_count": 209,
     "metadata": {},
     "output_type": "execute_result"
    }
   ],
   "source": [
    "df.head()"
   ]
  },
  {
   "cell_type": "code",
   "execution_count": 210,
   "id": "90bfa7c6",
   "metadata": {},
   "outputs": [
    {
     "name": "stdout",
     "output_type": "stream",
     "text": [
      "<class 'pandas.core.frame.DataFrame'>\n",
      "RangeIndex: 10065 entries, 0 to 10064\n",
      "Data columns (total 3 columns):\n",
      " #   Column  Non-Null Count  Dtype \n",
      "---  ------  --------------  ----- \n",
      " 0   ID      10065 non-null  int64 \n",
      " 1    TWEET  10064 non-null  object\n",
      " 2    LABEL  10065 non-null  object\n",
      "dtypes: int64(1), object(2)\n",
      "memory usage: 236.0+ KB\n"
     ]
    }
   ],
   "source": [
    "df.info()"
   ]
  },
  {
   "cell_type": "code",
   "execution_count": 211,
   "id": "f2aae76a",
   "metadata": {},
   "outputs": [
    {
     "data": {
      "text/plain": [
       " LABEL\n",
       "none        1550\n",
       "anger       1444\n",
       "joy         1281\n",
       "sadness     1256\n",
       "love        1220\n",
       "fear        1207\n",
       "sympathy    1062\n",
       "surprise    1045\n",
       "Name: count, dtype: int64"
      ]
     },
     "execution_count": 211,
     "metadata": {},
     "output_type": "execute_result"
    }
   ],
   "source": [
    "df[' LABEL'].value_counts()\n"
   ]
  },
  {
   "cell_type": "code",
   "execution_count": 212,
   "id": "f38d0e7b",
   "metadata": {},
   "outputs": [],
   "source": [
    "df=df.drop('ID',axis=1)"
   ]
  },
  {
   "cell_type": "code",
   "execution_count": 213,
   "id": "655568db",
   "metadata": {},
   "outputs": [
    {
     "data": {
      "text/plain": [
       " LABEL\n",
       "none        1550\n",
       "anger       1444\n",
       "joy         1281\n",
       "sadness     1256\n",
       "love        1220\n",
       "fear        1207\n",
       "sympathy    1062\n",
       "surprise    1045\n",
       "Name: count, dtype: int64"
      ]
     },
     "execution_count": 213,
     "metadata": {},
     "output_type": "execute_result"
    }
   ],
   "source": [
    "df[' LABEL'].value_counts()"
   ]
  },
  {
   "cell_type": "code",
   "execution_count": 214,
   "id": "b116bf2f",
   "metadata": {},
   "outputs": [],
   "source": [
    "df = df[df[' LABEL'].str.lower() != 'none'].copy()"
   ]
  },
  {
   "cell_type": "code",
   "execution_count": 215,
   "id": "31a710e0",
   "metadata": {},
   "outputs": [
    {
     "data": {
      "text/plain": [
       " LABEL\n",
       "anger       1444\n",
       "joy         1281\n",
       "sadness     1256\n",
       "love        1220\n",
       "fear        1207\n",
       "sympathy    1062\n",
       "surprise    1045\n",
       "Name: count, dtype: int64"
      ]
     },
     "execution_count": 215,
     "metadata": {},
     "output_type": "execute_result"
    }
   ],
   "source": [
    "df[' LABEL'].value_counts()"
   ]
  },
  {
   "cell_type": "code",
   "execution_count": 216,
   "id": "066135ab",
   "metadata": {},
   "outputs": [],
   "source": [
    "arabic_stopwords = set(stopwords.words(\"arabic\"))\n",
    "\n",
    "def clean_arabic(text):\n",
    "    text = re.sub(r'[^\\u0600-\\u06FF\\s]', '', text)  # remove non-Arabic\n",
    "    text = re.sub(r'[\\u0617-\\u061A\\u064B-\\u0652]', '', text)  # remove diacritics\n",
    "    text = re.sub(r\"@\\w+|#\\w+\", \"\", text)  # Remove mentions and hashtags\n",
    "    text = re.sub(r\"[^\\w\\s]\", \"\", text)  # Remove punctuation\n",
    "    text = re.sub(r\"\\s+\", \" \", text).strip()  # Remove extra spaces\n",
    "    text = re.sub(r'#', '', text)     # Remove hashtag symbol\n",
    "    words = text.split()\n",
    "    words = [w for w in words if w not in arabic_stopwords]\n",
    "    return ' '.join(words)\n",
    "\n",
    "df['cleaned_text'] = df[' TWEET'].astype(str).apply(clean_arabic)\n",
    "\n"
   ]
  },
  {
   "cell_type": "code",
   "execution_count": 217,
   "id": "7b1e97ee",
   "metadata": {},
   "outputs": [],
   "source": [
    "def normalize_arabic(text):\n",
    "    text = re.sub(\"[إأآا]\", \"ا\", text)\n",
    "    text = re.sub(\"ى\", \"ي\", text)\n",
    "    text = re.sub(\"ؤ\", \"ء\", text)\n",
    "    text = re.sub(\"ئ\", \"ء\", text)\n",
    "    text = re.sub(\"ة\", \"ه\", text)\n",
    "    text = re.sub(r\"(.)\\1{2,}\", r\"\\1\\1\", text)  # remove the extra words \n",
    "    return text\n",
    "\n",
    "df['normalized_text'] = df['cleaned_text'].apply(normalize_arabic)\n",
    "df['tokens'] = df['normalized_text'].apply(word_tokenize)\n"
   ]
  },
  {
   "cell_type": "code",
   "execution_count": 218,
   "id": "c113cd35",
   "metadata": {},
   "outputs": [
    {
     "data": {
      "text/html": [
       "<div>\n",
       "<style scoped>\n",
       "    .dataframe tbody tr th:only-of-type {\n",
       "        vertical-align: middle;\n",
       "    }\n",
       "\n",
       "    .dataframe tbody tr th {\n",
       "        vertical-align: top;\n",
       "    }\n",
       "\n",
       "    .dataframe thead th {\n",
       "        text-align: right;\n",
       "    }\n",
       "</style>\n",
       "<table border=\"1\" class=\"dataframe\">\n",
       "  <thead>\n",
       "    <tr style=\"text-align: right;\">\n",
       "      <th></th>\n",
       "      <th>TWEET</th>\n",
       "      <th>LABEL</th>\n",
       "      <th>cleaned_text</th>\n",
       "      <th>normalized_text</th>\n",
       "      <th>tokens</th>\n",
       "    </tr>\n",
       "  </thead>\n",
       "  <tbody>\n",
       "    <tr>\n",
       "      <th>1</th>\n",
       "      <td>عجز الموازنه وصل ل93.7 % من الناتج المحلي يعني...</td>\n",
       "      <td>anger</td>\n",
       "      <td>عجز الموازنه وصل الناتج المحلي يعني لسه اقل نف...</td>\n",
       "      <td>عجز الموازنه وصل الناتج المحلي يعني لسه اقل نف...</td>\n",
       "      <td>[عجز, الموازنه, وصل, الناتج, المحلي, يعني, لسه...</td>\n",
       "    </tr>\n",
       "    <tr>\n",
       "      <th>2</th>\n",
       "      <td>كتنا نيله ف حظنا الهباب xD</td>\n",
       "      <td>sadness</td>\n",
       "      <td>كتنا نيله حظنا الهباب</td>\n",
       "      <td>كتنا نيله حظنا الهباب</td>\n",
       "      <td>[كتنا, نيله, حظنا, الهباب]</td>\n",
       "    </tr>\n",
       "    <tr>\n",
       "      <th>3</th>\n",
       "      <td>جميعنا نريد تحقيق اهدافنا لكن تونس تالقت في حر...</td>\n",
       "      <td>joy</td>\n",
       "      <td>جميعنا نريد تحقيق اهدافنا تونس تالقت حراسه المرمي</td>\n",
       "      <td>جميعنا نريد تحقيق اهدافنا تونس تالقت حراسه المرمي</td>\n",
       "      <td>[جميعنا, نريد, تحقيق, اهدافنا, تونس, تالقت, حر...</td>\n",
       "    </tr>\n",
       "    <tr>\n",
       "      <th>5</th>\n",
       "      <td>دلوقتي عندها اربع سنين .... ومحدش يقدر يكلمها ...</td>\n",
       "      <td>surprise</td>\n",
       "      <td>دلوقتي عندها اربع سنين ومحدش يقدر يكلمها الله</td>\n",
       "      <td>دلوقتي عندها اربع سنين ومحدش يقدر يكلمها الله</td>\n",
       "      <td>[دلوقتي, عندها, اربع, سنين, ومحدش, يقدر, يكلمه...</td>\n",
       "    </tr>\n",
       "    <tr>\n",
       "      <th>6</th>\n",
       "      <td>الحب يسلبها كيدها يرجعها الي براءتها الاولي وي...</td>\n",
       "      <td>love</td>\n",
       "      <td>الحب يسلبها كيدها يرجعها الي براءتها الاولي وي...</td>\n",
       "      <td>الحب يسلبها كيدها يرجعها الي براءتها الاولي وي...</td>\n",
       "      <td>[الحب, يسلبها, كيدها, يرجعها, الي, براءتها, ال...</td>\n",
       "    </tr>\n",
       "  </tbody>\n",
       "</table>\n",
       "</div>"
      ],
      "text/plain": [
       "                                               TWEET     LABEL  \\\n",
       "1  عجز الموازنه وصل ل93.7 % من الناتج المحلي يعني...     anger   \n",
       "2                         كتنا نيله ف حظنا الهباب xD   sadness   \n",
       "3  جميعنا نريد تحقيق اهدافنا لكن تونس تالقت في حر...       joy   \n",
       "5  دلوقتي عندها اربع سنين .... ومحدش يقدر يكلمها ...  surprise   \n",
       "6  الحب يسلبها كيدها يرجعها الي براءتها الاولي وي...      love   \n",
       "\n",
       "                                        cleaned_text  \\\n",
       "1  عجز الموازنه وصل الناتج المحلي يعني لسه اقل نف...   \n",
       "2                              كتنا نيله حظنا الهباب   \n",
       "3  جميعنا نريد تحقيق اهدافنا تونس تالقت حراسه المرمي   \n",
       "5      دلوقتي عندها اربع سنين ومحدش يقدر يكلمها الله   \n",
       "6  الحب يسلبها كيدها يرجعها الي براءتها الاولي وي...   \n",
       "\n",
       "                                     normalized_text  \\\n",
       "1  عجز الموازنه وصل الناتج المحلي يعني لسه اقل نف...   \n",
       "2                              كتنا نيله حظنا الهباب   \n",
       "3  جميعنا نريد تحقيق اهدافنا تونس تالقت حراسه المرمي   \n",
       "5      دلوقتي عندها اربع سنين ومحدش يقدر يكلمها الله   \n",
       "6  الحب يسلبها كيدها يرجعها الي براءتها الاولي وي...   \n",
       "\n",
       "                                              tokens  \n",
       "1  [عجز, الموازنه, وصل, الناتج, المحلي, يعني, لسه...  \n",
       "2                         [كتنا, نيله, حظنا, الهباب]  \n",
       "3  [جميعنا, نريد, تحقيق, اهدافنا, تونس, تالقت, حر...  \n",
       "5  [دلوقتي, عندها, اربع, سنين, ومحدش, يقدر, يكلمه...  \n",
       "6  [الحب, يسلبها, كيدها, يرجعها, الي, براءتها, ال...  "
      ]
     },
     "execution_count": 218,
     "metadata": {},
     "output_type": "execute_result"
    }
   ],
   "source": [
    "df.head()"
   ]
  },
  {
   "cell_type": "code",
   "execution_count": 219,
   "id": "22d682b0",
   "metadata": {},
   "outputs": [
    {
     "data": {
      "image/png": "[encoded data removed]",
      "text/plain": [
       "<Figure size 800x500 with 1 Axes>"
      ]
     },
     "metadata": {},
     "output_type": "display_data"
    }
   ],
   "source": [
    "import matplotlib.pyplot as plt\n",
    "from collections import Counter\n",
    "all_tokens = [token for tokens in df['tokens'] for token in tokens]\n",
    "token_counts = Counter(all_tokens)\n",
    "\n",
    "# 2. Sort tokens by frequency\n",
    "sorted_counts = np.array([count for token, count in token_counts.most_common()])\n",
    "ranks = np.arange(1, len(sorted_counts) + 1)\n",
    "\n",
    "# 3. Compute cumulative coverage\n",
    "total_tokens = sorted_counts.sum()\n",
    "cumulative_counts = np.cumsum(sorted_counts)\n",
    "coverage = cumulative_counts / total_tokens * 100  # percentage\n",
    "\n",
    "# 4. Create a DataFrame for inspection\n",
    "coverage_df = pd.DataFrame({\n",
    "    'rank': ranks,\n",
    "    'coverage_percent': coverage\n",
    "})\n",
    "\n",
    "\n",
    "# 5. Plot the full cumulative coverage curve\n",
    "plt.figure(figsize=(8, 5))\n",
    "plt.plot(ranks, coverage)\n",
    "plt.xlabel('Vocabulary Size (Top N tokens)')\n",
    "plt.ylabel('Cumulative Coverage (%)')\n",
    "plt.title('Token Frequency Coverage Curve')\n",
    "plt.grid(True)\n",
    "plt.show()"
   ]
  },
  {
   "cell_type": "markdown",
   "id": "b84f70ad",
   "metadata": {},
   "source": [
    "# part two"
   ]
  },
  {
   "cell_type": "code",
   "execution_count": 220,
   "id": "c916ea48",
   "metadata": {},
   "outputs": [],
   "source": [
    "bow_vectorizer = CountVectorizer(max_features=25000)\n",
    "X_bow = bow_vectorizer.fit_transform(df['normalized_text'])\n",
    "y = df[' LABEL']\n"
   ]
  },
  {
   "cell_type": "code",
   "execution_count": 221,
   "id": "684080e5",
   "metadata": {},
   "outputs": [],
   "source": [
    "tfidf_vectorizer = TfidfVectorizer(max_features=25000)\n",
    "X_tfidf = tfidf_vectorizer.fit_transform(df['normalized_text'])\n",
    "y = df[' LABEL']\n",
    "\n"
   ]
  },
  {
   "cell_type": "code",
   "execution_count": 222,
   "id": "8936eb7e",
   "metadata": {},
   "outputs": [],
   "source": [
    "wv = KeyedVectors.load_word2vec_format('cc.ar.300.vec', binary=False)\n",
    "\n",
    "def get_avg_vector(tokens):\n",
    "    vectors = [wv[word] for word in tokens if word in wv]\n",
    "    return np.mean(vectors, axis=0) if vectors else np.zeros(300)\n",
    "\n",
    "X_w2v = np.vstack(df['tokens'].apply(get_avg_vector).values)\n",
    "y = df[' LABEL']\n"
   ]
  },
  {
   "cell_type": "markdown",
   "id": "807f7ef7",
   "metadata": {},
   "source": [
    "# part three"
   ]
  },
  {
   "cell_type": "code",
   "execution_count": 223,
   "id": "f2b27282",
   "metadata": {},
   "outputs": [],
   "source": [
    "def run_grid(X, y, model_name, estimator, param_grid):\n",
    "    \"\"\"Fit GridSearchCV and print only best params + metrics on test set.\"\"\"\n",
    "    X_tr, X_te, y_tr, y_te = train_test_split(X, y, test_size=0.2, random_state=42, stratify=y)\n",
    "    \n",
    "    pipe = Pipeline([\n",
    "        ('scale', StandardScaler(with_mean=False)),  # with_mean=False for sparse data\n",
    "        ('clf', estimator)\n",
    "    ])\n",
    "    grid = GridSearchCV(pipe, {'clf__' + k: v for k, v in param_grid.items()},\n",
    "                        cv=3, n_jobs=-1, scoring='f1_macro')\n",
    "    grid.fit(X_tr, y_tr)\n",
    "    \n",
    "    print(f\"\\n>>> {model_name}\")\n",
    "    print(\"Best params:\", grid.best_params_)\n",
    "    \n",
    "    y_pred = grid.predict(X_te)\n",
    "    print(classification_report(y_te, y_pred, digits=4))\n"
   ]
  },
  {
   "cell_type": "code",
   "execution_count": 224,
   "id": "81714e11",
   "metadata": {},
   "outputs": [
    {
     "name": "stdout",
     "output_type": "stream",
     "text": [
      "\n",
      ">>> MultinomialNB\n",
      "Best params: {'clf__alpha': 5.0}\n",
      "              precision    recall  f1-score   support\n",
      "\n",
      "       anger     0.5240    0.5294    0.5267       289\n",
      "        fear     0.5131    0.5685    0.5394       241\n",
      "         joy     0.4545    0.4102    0.4312       256\n",
      "        love     0.5785    0.5738    0.5761       244\n",
      "     sadness     0.3839    0.3426    0.3621       251\n",
      "    surprise     0.3170    0.3397    0.3279       209\n",
      "    sympathy     0.6233    0.6526    0.6376       213\n",
      "\n",
      "    accuracy                         0.4880      1703\n",
      "   macro avg     0.4849    0.4881    0.4859      1703\n",
      "weighted avg     0.4862    0.4880    0.4864      1703\n",
      "\n",
      "\n",
      ">>> SVM\n",
      "Best params: {'clf__C': 10, 'clf__gamma': 'auto', 'clf__kernel': 'rbf'}\n",
      "              precision    recall  f1-score   support\n",
      "\n",
      "       anger     0.3772    0.5260    0.4393       289\n",
      "        fear     0.7238    0.6307    0.6741       241\n",
      "         joy     0.3440    0.5898    0.4345       256\n",
      "        love     0.6855    0.4467    0.5409       244\n",
      "     sadness     0.4485    0.3466    0.3910       251\n",
      "    surprise     0.4128    0.3397    0.3727       209\n",
      "    sympathy     0.9365    0.5540    0.6962       213\n",
      "\n",
      "    accuracy                         0.4932      1703\n",
      "   macro avg     0.5612    0.4905    0.5070      1703\n",
      "weighted avg     0.5503    0.4932    0.5032      1703\n",
      "\n",
      "\n",
      ">>> DecisionTree\n",
      "Best params: {'clf__max_depth': None, 'clf__min_samples_split': 2}\n",
      "              precision    recall  f1-score   support\n",
      "\n",
      "       anger     0.5106    0.4983    0.5044       289\n",
      "        fear     0.9539    0.8589    0.9039       241\n",
      "         joy     0.3610    0.5273    0.4286       256\n",
      "        love     0.6468    0.5328    0.5843       244\n",
      "     sadness     0.3879    0.3586    0.3727       251\n",
      "    surprise     0.5054    0.4498    0.4759       209\n",
      "    sympathy     0.7630    0.7559    0.7594       213\n",
      "\n",
      "    accuracy                         0.5643      1703\n",
      "   macro avg     0.5898    0.5688    0.5756      1703\n",
      "weighted avg     0.5832    0.5643    0.5700      1703\n",
      "\n",
      "\n",
      ">>> RandomForest\n",
      "Best params: {'clf__max_depth': None, 'clf__n_estimators': 200}\n",
      "              precision    recall  f1-score   support\n",
      "\n",
      "       anger     0.6250    0.5709    0.5967       289\n",
      "        fear     0.9467    0.8838    0.9142       241\n",
      "         joy     0.4278    0.6250    0.5079       256\n",
      "        love     0.6564    0.6107    0.6327       244\n",
      "     sadness     0.4628    0.3466    0.3964       251\n",
      "    surprise     0.5635    0.4880    0.5231       209\n",
      "    sympathy     0.7377    0.8451    0.7877       213\n",
      "\n",
      "    accuracy                         0.6201      1703\n",
      "   macro avg     0.6314    0.6243    0.6227      1703\n",
      "weighted avg     0.6280    0.6201    0.6188      1703\n",
      "\n",
      "\n",
      ">>> AdaBoost\n",
      "Best params: {'clf__learning_rate': 1.0, 'clf__n_estimators': 100}\n",
      "              precision    recall  f1-score   support\n",
      "\n",
      "       anger     0.2305    0.8789    0.3652       289\n",
      "        fear     0.9885    0.7137    0.8289       241\n",
      "         joy     0.3275    0.2930    0.3093       256\n",
      "        love     0.8625    0.2828    0.4259       244\n",
      "     sadness     0.0000    0.0000    0.0000       251\n",
      "    surprise     0.0000    0.0000    0.0000       209\n",
      "    sympathy     0.8482    0.4460    0.5846       213\n",
      "\n",
      "    accuracy                         0.3905      1703\n",
      "   macro avg     0.4653    0.3735    0.3591      1703\n",
      "weighted avg     0.4579    0.3905    0.3599      1703\n",
      "\n"
     ]
    },
    {
     "name": "stderr",
     "output_type": "stream",
     "text": [
      "c:\\Users\\user\\AppData\\Local\\Programs\\Python\\Python39\\lib\\site-packages\\sklearn\\metrics\\_classification.py:1565: UndefinedMetricWarning: Precision is ill-defined and being set to 0.0 in labels with no predicted samples. Use `zero_division` parameter to control this behavior.\n",
      "  _warn_prf(average, modifier, f\"{metric.capitalize()} is\", len(result))\n",
      "c:\\Users\\user\\AppData\\Local\\Programs\\Python\\Python39\\lib\\site-packages\\sklearn\\metrics\\_classification.py:1565: UndefinedMetricWarning: Precision is ill-defined and being set to 0.0 in labels with no predicted samples. Use `zero_division` parameter to control this behavior.\n",
      "  _warn_prf(average, modifier, f\"{metric.capitalize()} is\", len(result))\n",
      "c:\\Users\\user\\AppData\\Local\\Programs\\Python\\Python39\\lib\\site-packages\\sklearn\\metrics\\_classification.py:1565: UndefinedMetricWarning: Precision is ill-defined and being set to 0.0 in labels with no predicted samples. Use `zero_division` parameter to control this behavior.\n",
      "  _warn_prf(average, modifier, f\"{metric.capitalize()} is\", len(result))\n"
     ]
    }
   ],
   "source": [
    "# tf-idf\n",
    "tfidf_grids = {\n",
    "    'MultinomialNB': {\n",
    "        'alpha': [0.1, 1.0, 5.0]\n",
    "    },\n",
    "    'SVM': {\n",
    "        'kernel': ['rbf'],\n",
    "        'C': [1, 10],\n",
    "        'gamma': ['scale', 'auto']\n",
    "    },\n",
    "    'DecisionTree': {\n",
    "        'max_depth': [None, 10, 20],\n",
    "        'min_samples_split': [2, 5]\n",
    "    },\n",
    "    'RandomForest': {\n",
    "        'n_estimators': [100, 200],\n",
    "        'max_depth': [None]\n",
    "    },\n",
    "    'AdaBoost': {\n",
    "        'n_estimators': [50, 100],\n",
    "        'learning_rate': [0.5, 1.0]\n",
    "    }\n",
    "}\n",
    "\n",
    "for name, grid_params in tfidf_grids.items():\n",
    "    est = {\n",
    "        'MultinomialNB': MultinomialNB(),\n",
    "        'SVM': SVC(),\n",
    "        'DecisionTree': DecisionTreeClassifier(),\n",
    "        'RandomForest': RandomForestClassifier(),\n",
    "        'AdaBoost': AdaBoostClassifier()\n",
    "    }[name]\n",
    "    run_grid(X_tfidf, y, name, est, grid_params)"
   ]
  },
  {
   "cell_type": "code",
   "execution_count": 225,
   "id": "17530b59",
   "metadata": {},
   "outputs": [
    {
     "name": "stdout",
     "output_type": "stream",
     "text": [
      "\n",
      ">>> MultinomialNB\n",
      "Best params: {'clf__alpha': 5.0}\n",
      "              precision    recall  f1-score   support\n",
      "\n",
      "       anger     0.5314    0.4983    0.5143       289\n",
      "        fear     0.5182    0.5892    0.5515       241\n",
      "         joy     0.4571    0.4375    0.4471       256\n",
      "        love     0.5823    0.5656    0.5738       244\n",
      "     sadness     0.4000    0.3665    0.3825       251\n",
      "    surprise     0.3363    0.3589    0.3472       209\n",
      "    sympathy     0.6502    0.6808    0.6651       213\n",
      "\n",
      "    accuracy                         0.4979      1703\n",
      "   macro avg     0.4965    0.4995    0.4974      1703\n",
      "weighted avg     0.4972    0.4979    0.4969      1703\n",
      "\n",
      "\n",
      ">>> SVM\n",
      "Best params: {'clf__C': 10, 'clf__gamma': 'auto', 'clf__kernel': 'rbf'}\n",
      "              precision    recall  f1-score   support\n",
      "\n",
      "       anger     0.4891    0.5433    0.5148       289\n",
      "        fear     0.7143    0.7261    0.7202       241\n",
      "         joy     0.3734    0.6797    0.4820       256\n",
      "        love     0.6708    0.4426    0.5333       244\n",
      "     sadness     0.4970    0.3347    0.4000       251\n",
      "    surprise     0.4946    0.4354    0.4631       209\n",
      "    sympathy     0.8917    0.6573    0.7568       213\n",
      "\n",
      "    accuracy                         0.5455      1703\n",
      "   macro avg     0.5901    0.5456    0.5529      1703\n",
      "weighted avg     0.5818    0.5455    0.5486      1703\n",
      "\n",
      "\n",
      ">>> DecisionTree\n",
      "Best params: {'clf__max_depth': None, 'clf__min_samples_split': 2}\n",
      "              precision    recall  f1-score   support\n",
      "\n",
      "       anger     0.5039    0.4429    0.4715       289\n",
      "        fear     0.9673    0.8589    0.9099       241\n",
      "         joy     0.3667    0.5156    0.4286       256\n",
      "        love     0.5726    0.5656    0.5691       244\n",
      "     sadness     0.3444    0.3307    0.3374       251\n",
      "    surprise     0.4607    0.4211    0.4400       209\n",
      "    sympathy     0.7970    0.7559    0.7759       213\n",
      "\n",
      "    accuracy                         0.5502      1703\n",
      "   macro avg     0.5732    0.5558    0.5618      1703\n",
      "weighted avg     0.5666    0.5502    0.5555      1703\n",
      "\n",
      "\n",
      ">>> RandomForest\n",
      "Best params: {'clf__max_depth': None, 'clf__n_estimators': 100}\n",
      "              precision    recall  f1-score   support\n",
      "\n",
      "       anger     0.6667    0.4221    0.5169       289\n",
      "        fear     0.8983    0.8797    0.8889       241\n",
      "         joy     0.4034    0.6523    0.4985       256\n",
      "        love     0.6606    0.5984    0.6280       244\n",
      "     sadness     0.4103    0.3825    0.3959       251\n",
      "    surprise     0.4670    0.4737    0.4703       209\n",
      "    sympathy     0.8571    0.8169    0.8365       213\n",
      "\n",
      "    accuracy                         0.5966      1703\n",
      "   macro avg     0.6233    0.6037    0.6050      1703\n",
      "weighted avg     0.6205    0.5966    0.5991      1703\n",
      "\n",
      "\n",
      ">>> AdaBoost\n",
      "Best params: {'clf__learning_rate': 1.0, 'clf__n_estimators': 100}\n",
      "              precision    recall  f1-score   support\n",
      "\n",
      "       anger     0.2254    0.8789    0.3588       289\n",
      "        fear     1.0000    0.6515    0.7889       241\n",
      "         joy     0.3275    0.2930    0.3093       256\n",
      "        love     0.8525    0.2131    0.3410       244\n",
      "     sadness     0.0000    0.0000    0.0000       251\n",
      "    surprise     0.0000    0.0000    0.0000       209\n",
      "    sympathy     0.8081    0.3756    0.5128       213\n",
      "\n",
      "    accuracy                         0.3629      1703\n",
      "   macro avg     0.4591    0.3446    0.3301      1703\n",
      "weighted avg     0.4522    0.3629    0.3320      1703\n",
      "\n"
     ]
    },
    {
     "name": "stderr",
     "output_type": "stream",
     "text": [
      "c:\\Users\\user\\AppData\\Local\\Programs\\Python\\Python39\\lib\\site-packages\\sklearn\\metrics\\_classification.py:1565: UndefinedMetricWarning: Precision is ill-defined and being set to 0.0 in labels with no predicted samples. Use `zero_division` parameter to control this behavior.\n",
      "  _warn_prf(average, modifier, f\"{metric.capitalize()} is\", len(result))\n",
      "c:\\Users\\user\\AppData\\Local\\Programs\\Python\\Python39\\lib\\site-packages\\sklearn\\metrics\\_classification.py:1565: UndefinedMetricWarning: Precision is ill-defined and being set to 0.0 in labels with no predicted samples. Use `zero_division` parameter to control this behavior.\n",
      "  _warn_prf(average, modifier, f\"{metric.capitalize()} is\", len(result))\n",
      "c:\\Users\\user\\AppData\\Local\\Programs\\Python\\Python39\\lib\\site-packages\\sklearn\\metrics\\_classification.py:1565: UndefinedMetricWarning: Precision is ill-defined and being set to 0.0 in labels with no predicted samples. Use `zero_division` parameter to control this behavior.\n",
      "  _warn_prf(average, modifier, f\"{metric.capitalize()} is\", len(result))\n"
     ]
    }
   ],
   "source": [
    "# BoW\n",
    "BoW_grids = {\n",
    "    'MultinomialNB': {\n",
    "        'alpha': [0.1, 1.0, 5.0]\n",
    "    },\n",
    "    'SVM': {\n",
    "        'kernel': ['rbf'],\n",
    "        'C': [1, 10],\n",
    "        'gamma': ['scale', 'auto']\n",
    "    },\n",
    "    'DecisionTree': {\n",
    "        'max_depth': [None, 10, 20],\n",
    "        'min_samples_split': [2, 5]\n",
    "    },\n",
    "    'RandomForest': {\n",
    "        'n_estimators': [100, 200],\n",
    "        'max_depth': [None, 20]\n",
    "    },\n",
    "    'AdaBoost': {\n",
    "        'n_estimators': [50, 100],\n",
    "        'learning_rate': [0.5, 1.0]\n",
    "    }\n",
    "}\n",
    "\n",
    "for name, grid_params in BoW_grids.items():\n",
    "    est = {\n",
    "        'MultinomialNB': MultinomialNB(),\n",
    "        'SVM': SVC(),\n",
    "        'DecisionTree': DecisionTreeClassifier(),\n",
    "        'RandomForest': RandomForestClassifier(),\n",
    "        'AdaBoost': AdaBoostClassifier()\n",
    "    }[name]\n",
    "    run_grid(X_bow, y, name, est, grid_params)"
   ]
  },
  {
   "cell_type": "code",
   "execution_count": 226,
   "id": "9593a442",
   "metadata": {},
   "outputs": [
    {
     "name": "stdout",
     "output_type": "stream",
     "text": [
      "\n",
      ">>> GaussianNB\n",
      "Best params: {'clf__var_smoothing': 1e-09}\n",
      "              precision    recall  f1-score   support\n",
      "\n",
      "       anger     0.3966    0.7163    0.5105       289\n",
      "        fear     0.7273    0.5975    0.6560       241\n",
      "         joy     0.3846    0.2930    0.3326       256\n",
      "        love     0.6194    0.6803    0.6484       244\n",
      "     sadness     0.4177    0.1315    0.2000       251\n",
      "    surprise     0.3962    0.3014    0.3424       209\n",
      "    sympathy     0.5461    0.7230    0.6222       213\n",
      "\n",
      "    accuracy                         0.4944      1703\n",
      "   macro avg     0.4983    0.4919    0.4732      1703\n",
      "weighted avg     0.4953    0.4944    0.4717      1703\n",
      "\n",
      "\n",
      ">>> SVM\n",
      "Best params: {'clf__C': 1, 'clf__gamma': 'auto', 'clf__kernel': 'rbf'}\n",
      "              precision    recall  f1-score   support\n",
      "\n",
      "       anger     0.6677    0.7647    0.7129       289\n",
      "        fear     0.8843    0.7925    0.8359       241\n",
      "         joy     0.5799    0.6523    0.6140       256\n",
      "        love     0.7534    0.6885    0.7195       244\n",
      "     sadness     0.5064    0.4701    0.4876       251\n",
      "    surprise     0.5163    0.5311    0.5236       209\n",
      "    sympathy     0.8426    0.7793    0.8098       213\n",
      "\n",
      "    accuracy                         0.6706      1703\n",
      "   macro avg     0.6786    0.6684    0.6719      1703\n",
      "weighted avg     0.6769    0.6706    0.6721      1703\n",
      "\n",
      "\n",
      ">>> DecisionTree\n",
      "Best params: {'clf__max_depth': 10, 'clf__min_samples_split': 2}\n",
      "              precision    recall  f1-score   support\n",
      "\n",
      "       anger     0.3707    0.4810    0.4187       289\n",
      "        fear     0.5479    0.4979    0.5217       241\n",
      "         joy     0.2737    0.2930    0.2830       256\n",
      "        love     0.4938    0.4918    0.4928       244\n",
      "     sadness     0.2232    0.2072    0.2149       251\n",
      "    surprise     0.3000    0.2297    0.2602       209\n",
      "    sympathy     0.5628    0.5258    0.5437       213\n",
      "\n",
      "    accuracy                         0.3911      1703\n",
      "   macro avg     0.3960    0.3895    0.3907      1703\n",
      "weighted avg     0.3924    0.3911    0.3896      1703\n",
      "\n",
      "\n",
      ">>> RandomForest\n",
      "Best params: {'clf__max_depth': None, 'clf__n_estimators': 200}\n",
      "              precision    recall  f1-score   support\n",
      "\n",
      "       anger     0.5264    0.7578    0.6213       289\n",
      "        fear     0.7024    0.7344    0.7181       241\n",
      "         joy     0.5538    0.5430    0.5483       256\n",
      "        love     0.6382    0.7664    0.6965       244\n",
      "     sadness     0.4494    0.2829    0.3472       251\n",
      "    surprise     0.4930    0.3349    0.3989       209\n",
      "    sympathy     0.7801    0.6995    0.7376       213\n",
      "\n",
      "    accuracy                         0.5942      1703\n",
      "   macro avg     0.5919    0.5884    0.5811      1703\n",
      "weighted avg     0.5877    0.5942    0.5816      1703\n",
      "\n",
      "\n",
      ">>> AdaBoost\n",
      "Best params: {'clf__learning_rate': 1.0, 'clf__n_estimators': 100}\n",
      "              precision    recall  f1-score   support\n",
      "\n",
      "       anger     0.5568    0.5087    0.5316       289\n",
      "        fear     0.7611    0.5685    0.6508       241\n",
      "         joy     0.4706    0.4375    0.4534       256\n",
      "        love     0.5537    0.6967    0.6171       244\n",
      "     sadness     0.2731    0.2829    0.2779       251\n",
      "    surprise     0.3357    0.4498    0.3845       209\n",
      "    sympathy     0.6667    0.5446    0.5995       213\n",
      "\n",
      "    accuracy                         0.4974      1703\n",
      "   macro avg     0.5168    0.4984    0.5021      1703\n",
      "weighted avg     0.5171    0.4974    0.5020      1703\n",
      "\n"
     ]
    }
   ],
   "source": [
    "# w2v\n",
    "w2v_grids = {\n",
    "    'GaussianNB': {\n",
    "        # GaussianNB has no hyperparams, but we include a dummy for pipeline naming\n",
    "        'var_smoothing': [1e-9]\n",
    "    },\n",
    "    'SVM': {\n",
    "        'kernel': ['rbf'],\n",
    "        'C': [1, 10],\n",
    "        'gamma': ['scale', 'auto']\n",
    "    },\n",
    "    'DecisionTree': {\n",
    "        'max_depth': [None, 10, 20],\n",
    "        'min_samples_split': [2, 5]\n",
    "    },\n",
    "    'RandomForest': {\n",
    "        'n_estimators': [100, 200],\n",
    "        'max_depth': [None, 20]\n",
    "    },\n",
    "    'AdaBoost': {\n",
    "        'n_estimators': [50, 100],\n",
    "        'learning_rate': [0.5, 1.0]\n",
    "    }\n",
    "}\n",
    "\n",
    "for name, grid_params in w2v_grids.items():\n",
    "    est = {\n",
    "        'GaussianNB': GaussianNB(),\n",
    "        'SVM': SVC(),\n",
    "        'DecisionTree': DecisionTreeClassifier(),\n",
    "        'RandomForest': RandomForestClassifier(),\n",
    "        'AdaBoost': AdaBoostClassifier()\n",
    "    }[name]\n",
    "    run_grid(X_w2v, y, name, est, grid_params)"
   ]
  },
  {
   "cell_type": "markdown",
   "id": "36ccc81d",
   "metadata": {},
   "source": [
    "# part four "
   ]
  },
  {
   "cell_type": "code",
   "execution_count": 227,
   "id": "0e64c4ca",
   "metadata": {},
   "outputs": [
    {
     "name": "stderr",
     "output_type": "stream",
     "text": [
      "c:\\Users\\user\\AppData\\Local\\Programs\\Python\\Python39\\lib\\site-packages\\keras\\src\\layers\\core\\dense.py:87: UserWarning: Do not pass an `input_shape`/`input_dim` argument to a layer. When using Sequential models, prefer using an `Input(shape)` object as the first layer in the model instead.\n",
      "  super().__init__(activity_regularizer=activity_regularizer, **kwargs)\n"
     ]
    },
    {
     "name": "stdout",
     "output_type": "stream",
     "text": [
      "Epoch 1/10\n",
      "\u001b[1m213/213\u001b[0m \u001b[32m━━━━━━━━━━━━━━━━━━━━\u001b[0m\u001b[37m\u001b[0m \u001b[1m7s\u001b[0m 24ms/step - accuracy: 0.2007 - loss: 1.9288 - val_accuracy: 0.5619 - val_loss: 1.6923\n",
      "Epoch 2/10\n",
      "\u001b[1m213/213\u001b[0m \u001b[32m━━━━━━━━━━━━━━━━━━━━\u001b[0m\u001b[37m\u001b[0m \u001b[1m5s\u001b[0m 21ms/step - accuracy: 0.4552 - loss: 1.5545 - val_accuracy: 0.6254 - val_loss: 1.2257\n",
      "Epoch 3/10\n",
      "\u001b[1m213/213\u001b[0m \u001b[32m━━━━━━━━━━━━━━━━━━━━\u001b[0m\u001b[37m\u001b[0m \u001b[1m5s\u001b[0m 21ms/step - accuracy: 0.6250 - loss: 1.0817 - val_accuracy: 0.6688 - val_loss: 1.0324\n",
      "Epoch 4/10\n",
      "\u001b[1m213/213\u001b[0m \u001b[32m━━━━━━━━━━━━━━━━━━━━\u001b[0m\u001b[37m\u001b[0m \u001b[1m4s\u001b[0m 21ms/step - accuracy: 0.7518 - loss: 0.7356 - val_accuracy: 0.6747 - val_loss: 0.9701\n",
      "Epoch 5/10\n",
      "\u001b[1m213/213\u001b[0m \u001b[32m━━━━━━━━━━━━━━━━━━━━\u001b[0m\u001b[37m\u001b[0m \u001b[1m4s\u001b[0m 21ms/step - accuracy: 0.8427 - loss: 0.5140 - val_accuracy: 0.6718 - val_loss: 0.9883\n",
      "Epoch 6/10\n",
      "\u001b[1m213/213\u001b[0m \u001b[32m━━━━━━━━━━━━━━━━━━━━\u001b[0m\u001b[37m\u001b[0m \u001b[1m4s\u001b[0m 20ms/step - accuracy: 0.9029 - loss: 0.3595 - val_accuracy: 0.6682 - val_loss: 1.0244\n",
      "Epoch 7/10\n",
      "\u001b[1m213/213\u001b[0m \u001b[32m━━━━━━━━━━━━━━━━━━━━\u001b[0m\u001b[37m\u001b[0m \u001b[1m4s\u001b[0m 20ms/step - accuracy: 0.9214 - loss: 0.2847 - val_accuracy: 0.6606 - val_loss: 1.0785\n",
      "Epoch 8/10\n",
      "\u001b[1m213/213\u001b[0m \u001b[32m━━━━━━━━━━━━━━━━━━━━\u001b[0m\u001b[37m\u001b[0m \u001b[1m5s\u001b[0m 23ms/step - accuracy: 0.9352 - loss: 0.2347 - val_accuracy: 0.6671 - val_loss: 1.1454\n",
      "Epoch 9/10\n",
      "\u001b[1m213/213\u001b[0m \u001b[32m━━━━━━━━━━━━━━━━━━━━\u001b[0m\u001b[37m\u001b[0m \u001b[1m5s\u001b[0m 24ms/step - accuracy: 0.9469 - loss: 0.1876 - val_accuracy: 0.6659 - val_loss: 1.1957\n",
      "Epoch 10/10\n",
      "\u001b[1m213/213\u001b[0m \u001b[32m━━━━━━━━━━━━━━━━━━━━\u001b[0m\u001b[37m\u001b[0m \u001b[1m5s\u001b[0m 23ms/step - accuracy: 0.9589 - loss: 0.1569 - val_accuracy: 0.6577 - val_loss: 1.2554\n"
     ]
    },
    {
     "data": {
      "text/plain": [
       "<keras.src.callbacks.history.History at 0x1a06c472ca0>"
      ]
     },
     "execution_count": 227,
     "metadata": {},
     "output_type": "execute_result"
    }
   ],
   "source": [
    "# tfidf\n",
    "# Encode target labels\n",
    "le = LabelEncoder()\n",
    "y_encoded = to_categorical(le.fit_transform(y))\n",
    "\n",
    "X_train_nn, X_test_nn, y_train_nn, y_test_nn = train_test_split(X_tfidf.toarray(), y_encoded, test_size=0.2)\n",
    "\n",
    "model = Sequential([\n",
    "    Dense(64, input_shape=(X_train_nn.shape[1],), activation='relu'),\n",
    "    Dropout(0.5),\n",
    "    Dense(32, activation='relu'),\n",
    "    Dropout(0.5), # we put dropout becuase it was overfiiting \n",
    "    Dense(y_encoded.shape[1], activation='softmax')\n",
    "])\n",
    "\n",
    "model.compile(optimizer='adam', loss='categorical_crossentropy', metrics=['accuracy'])\n",
    "model.fit(X_train_nn, y_train_nn, epochs=10, validation_data=(X_test_nn, y_test_nn))\n"
   ]
  },
  {
   "cell_type": "code",
   "execution_count": 228,
   "id": "987bf7aa",
   "metadata": {},
   "outputs": [
    {
     "name": "stdout",
     "output_type": "stream",
     "text": [
      "Epoch 1/10\n"
     ]
    },
    {
     "name": "stderr",
     "output_type": "stream",
     "text": [
      "c:\\Users\\user\\AppData\\Local\\Programs\\Python\\Python39\\lib\\site-packages\\keras\\src\\layers\\core\\dense.py:87: UserWarning: Do not pass an `input_shape`/`input_dim` argument to a layer. When using Sequential models, prefer using an `Input(shape)` object as the first layer in the model instead.\n",
      "  super().__init__(activity_regularizer=activity_regularizer, **kwargs)\n"
     ]
    },
    {
     "name": "stdout",
     "output_type": "stream",
     "text": [
      "\u001b[1m213/213\u001b[0m \u001b[32m━━━━━━━━━━━━━━━━━━━━\u001b[0m\u001b[37m\u001b[0m \u001b[1m2s\u001b[0m 5ms/step - accuracy: 0.4279 - loss: 1.5992 - val_accuracy: 0.6136 - val_loss: 1.0510\n",
      "Epoch 2/10\n",
      "\u001b[1m213/213\u001b[0m \u001b[32m━━━━━━━━━━━━━━━━━━━━\u001b[0m\u001b[37m\u001b[0m \u001b[1m1s\u001b[0m 4ms/step - accuracy: 0.6507 - loss: 0.9974 - val_accuracy: 0.6418 - val_loss: 0.9905\n",
      "Epoch 3/10\n",
      "\u001b[1m213/213\u001b[0m \u001b[32m━━━━━━━━━━━━━━━━━━━━\u001b[0m\u001b[37m\u001b[0m \u001b[1m1s\u001b[0m 4ms/step - accuracy: 0.6768 - loss: 0.9133 - val_accuracy: 0.6512 - val_loss: 0.9661\n",
      "Epoch 4/10\n",
      "\u001b[1m213/213\u001b[0m \u001b[32m━━━━━━━━━━━━━━━━━━━━\u001b[0m\u001b[37m\u001b[0m \u001b[1m1s\u001b[0m 5ms/step - accuracy: 0.7139 - loss: 0.8092 - val_accuracy: 0.6430 - val_loss: 0.9786\n",
      "Epoch 5/10\n",
      "\u001b[1m213/213\u001b[0m \u001b[32m━━━━━━━━━━━━━━━━━━━━\u001b[0m\u001b[37m\u001b[0m \u001b[1m1s\u001b[0m 4ms/step - accuracy: 0.7377 - loss: 0.7280 - val_accuracy: 0.6494 - val_loss: 0.9846\n",
      "Epoch 6/10\n",
      "\u001b[1m213/213\u001b[0m \u001b[32m━━━━━━━━━━━━━━━━━━━━\u001b[0m\u001b[37m\u001b[0m \u001b[1m1s\u001b[0m 4ms/step - accuracy: 0.7482 - loss: 0.7090 - val_accuracy: 0.6659 - val_loss: 0.9782\n",
      "Epoch 7/10\n",
      "\u001b[1m213/213\u001b[0m \u001b[32m━━━━━━━━━━━━━━━━━━━━\u001b[0m\u001b[37m\u001b[0m \u001b[1m1s\u001b[0m 4ms/step - accuracy: 0.7733 - loss: 0.6312 - val_accuracy: 0.6606 - val_loss: 0.9939\n",
      "Epoch 8/10\n",
      "\u001b[1m213/213\u001b[0m \u001b[32m━━━━━━━━━━━━━━━━━━━━\u001b[0m\u001b[37m\u001b[0m \u001b[1m1s\u001b[0m 4ms/step - accuracy: 0.7795 - loss: 0.5944 - val_accuracy: 0.6606 - val_loss: 1.0014\n",
      "Epoch 9/10\n",
      "\u001b[1m213/213\u001b[0m \u001b[32m━━━━━━━━━━━━━━━━━━━━\u001b[0m\u001b[37m\u001b[0m \u001b[1m1s\u001b[0m 4ms/step - accuracy: 0.7884 - loss: 0.5784 - val_accuracy: 0.6723 - val_loss: 1.0086\n",
      "Epoch 10/10\n",
      "\u001b[1m213/213\u001b[0m \u001b[32m━━━━━━━━━━━━━━━━━━━━\u001b[0m\u001b[37m\u001b[0m \u001b[1m1s\u001b[0m 4ms/step - accuracy: 0.8089 - loss: 0.5291 - val_accuracy: 0.6653 - val_loss: 1.0586\n"
     ]
    },
    {
     "data": {
      "text/plain": [
       "<keras.src.callbacks.history.History at 0x1a1346a3c10>"
      ]
     },
     "execution_count": 228,
     "metadata": {},
     "output_type": "execute_result"
    }
   ],
   "source": [
    "# W2V\n",
    "\n",
    "# Encode target labels\n",
    "le = LabelEncoder()\n",
    "y_encoded = to_categorical(le.fit_transform(y))\n",
    "scaler = StandardScaler()\n",
    "X_w2v = scaler.fit_transform(X_w2v)\n",
    "X_train_nn, X_test_nn, y_train_nn, y_test_nn = train_test_split(X_w2v, y_encoded, test_size=0.2)\n",
    "\n",
    "model = Sequential([\n",
    "    Dense(256, input_shape=(X_train_nn.shape[1],), activation='relu'),\n",
    "    Dropout(0.3),\n",
    "    Dense(128, activation='relu'),\n",
    "    Dropout(0.3), # we put dropout to prevent overfitting \n",
    "    Dense(y_encoded.shape[1], activation='softmax')\n",
    "])\n",
    "\n",
    "model.compile(optimizer='adam', loss='categorical_crossentropy', metrics=['accuracy'])\n",
    "model.fit(X_train_nn, y_train_nn, epochs=10, validation_data=(X_test_nn, y_test_nn))\n"
   ]
  },
  {
   "cell_type": "markdown",
   "id": "165962a9",
   "metadata": {},
   "source": [
    "# part five"
   ]
  },
  {
   "cell_type": "code",
   "execution_count": 229,
   "id": "105b1230",
   "metadata": {},
   "outputs": [
    {
     "name": "stderr",
     "output_type": "stream",
     "text": [
      "c:\\Users\\user\\AppData\\Local\\Programs\\Python\\Python39\\lib\\site-packages\\keras\\src\\layers\\core\\embedding.py:90: UserWarning: Argument `input_length` is deprecated. Just remove it.\n",
      "  warnings.warn(\n"
     ]
    },
    {
     "name": "stdout",
     "output_type": "stream",
     "text": [
      "Epoch 1/10\n",
      "\u001b[1m252/252\u001b[0m \u001b[32m━━━━━━━━━━━━━━━━━━━━\u001b[0m\u001b[37m\u001b[0m \u001b[1m44s\u001b[0m 156ms/step - accuracy: 0.3263 - loss: 1.8082 - val_accuracy: 0.5728 - val_loss: 1.2751\n",
      "Epoch 2/10\n",
      "\u001b[1m252/252\u001b[0m \u001b[32m━━━━━━━━━━━━━━━━━━━━\u001b[0m\u001b[37m\u001b[0m \u001b[1m40s\u001b[0m 157ms/step - accuracy: 0.5727 - loss: 1.2369 - val_accuracy: 0.6185 - val_loss: 1.1149\n",
      "Epoch 3/10\n",
      "\u001b[1m252/252\u001b[0m \u001b[32m━━━━━━━━━━━━━━━━━━━━\u001b[0m\u001b[37m\u001b[0m \u001b[1m46s\u001b[0m 175ms/step - accuracy: 0.6325 - loss: 1.0610 - val_accuracy: 0.6080 - val_loss: 1.1332\n",
      "Epoch 4/10\n",
      "\u001b[1m252/252\u001b[0m \u001b[32m━━━━━━━━━━━━━━━━━━━━\u001b[0m\u001b[37m\u001b[0m \u001b[1m51s\u001b[0m 204ms/step - accuracy: 0.6591 - loss: 0.9983 - val_accuracy: 0.6314 - val_loss: 1.0461\n",
      "Epoch 5/10\n",
      "\u001b[1m252/252\u001b[0m \u001b[32m━━━━━━━━━━━━━━━━━━━━\u001b[0m\u001b[37m\u001b[0m \u001b[1m40s\u001b[0m 159ms/step - accuracy: 0.6702 - loss: 0.9570 - val_accuracy: 0.6393 - val_loss: 1.0471\n",
      "Epoch 6/10\n",
      "\u001b[1m252/252\u001b[0m \u001b[32m━━━━━━━━━━━━━━━━━━━━\u001b[0m\u001b[37m\u001b[0m \u001b[1m42s\u001b[0m 163ms/step - accuracy: 0.6913 - loss: 0.8971 - val_accuracy: 0.6498 - val_loss: 1.0298\n",
      "Epoch 7/10\n",
      "\u001b[1m252/252\u001b[0m \u001b[32m━━━━━━━━━━━━━━━━━━━━\u001b[0m\u001b[37m\u001b[0m \u001b[1m44s\u001b[0m 174ms/step - accuracy: 0.7097 - loss: 0.8409 - val_accuracy: 0.6528 - val_loss: 1.0267\n",
      "Epoch 8/10\n",
      "\u001b[1m252/252\u001b[0m \u001b[32m━━━━━━━━━━━━━━━━━━━━\u001b[0m\u001b[37m\u001b[0m \u001b[1m70s\u001b[0m 277ms/step - accuracy: 0.7173 - loss: 0.8185 - val_accuracy: 0.6552 - val_loss: 1.0576\n",
      "Epoch 9/10\n",
      "\u001b[1m252/252\u001b[0m \u001b[32m━━━━━━━━━━━━━━━━━━━━\u001b[0m\u001b[37m\u001b[0m \u001b[1m45s\u001b[0m 178ms/step - accuracy: 0.7297 - loss: 0.7773 - val_accuracy: 0.6547 - val_loss: 1.0375\n",
      "Epoch 10/10\n",
      "\u001b[1m252/252\u001b[0m \u001b[32m━━━━━━━━━━━━━━━━━━━━\u001b[0m\u001b[37m\u001b[0m \u001b[1m42s\u001b[0m 168ms/step - accuracy: 0.7465 - loss: 0.7209 - val_accuracy: 0.6557 - val_loss: 1.0929\n"
     ]
    },
    {
     "data": {
      "text/plain": [
       "<keras.src.callbacks.history.History at 0x1a03d5821f0>"
      ]
     },
     "execution_count": 229,
     "metadata": {},
     "output_type": "execute_result"
    }
   ],
   "source": [
    "df = pd.read_csv(\"Emotional-Tone-Dataset.csv\")\n",
    "X_text = df[' TWEET']\n",
    "y = df[' LABEL']\n",
    "vocab_size = 25000\n",
    "max_len = 100\n",
    "X_text = X_text.astype(str)  # Converts all entries to string\n",
    "X_text = X_text.fillna('')   # Replace any NaNs with empty strings\n",
    "tokenizer = Tokenizer(num_words=vocab_size, oov_token=\"<OOV>\")\n",
    "tokenizer.fit_on_texts(X_text)\n",
    "X_seq = tokenizer.texts_to_sequences(X_text)\n",
    "X_pad = pad_sequences(X_seq, maxlen=max_len, padding='post')\n",
    "le = LabelEncoder()\n",
    "y_encoded = to_categorical(le.fit_transform(y))\n",
    "w2v = gensim.models.KeyedVectors.load_word2vec_format(\"cc.ar.300.vec\", binary=False)\n",
    "embedding_dim = w2v.vector_size\n",
    "embedding_matrix = np.zeros((vocab_size, embedding_dim))\n",
    "word_index = tokenizer.word_index\n",
    "for word, i in word_index.items():\n",
    "    if i < vocab_size and word in w2v:\n",
    "        embedding_matrix[i] = w2v[word]\n",
    "X_train, X_test, y_train, y_test = train_test_split(X_pad, y_encoded, test_size=0.2, stratify=y)\n",
    "model = Sequential()\n",
    "model.add(Embedding(input_dim=vocab_size,\n",
    "                    output_dim=embedding_dim,\n",
    "                    weights=[embedding_matrix],\n",
    "                    input_length=max_len,\n",
    "                    trainable=False))  # keep Word2Vec fixed\n",
    "model.add(Bidirectional(LSTM(128, return_sequences=False)))\n",
    "model.add(Dropout(0.5))\n",
    "model.add(Dense(64, activation='relu')) \n",
    "model.add(Dense(y_encoded.shape[1], activation='softmax'))\n",
    "model.compile(optimizer='adam', loss='categorical_crossentropy', metrics=['accuracy'])\n",
    "model.fit(X_train, y_train, epochs=10, batch_size=32, validation_data=(X_test, y_test))"
   ]
  }
 ],
 "metadata": {
  "kernelspec": {
   "display_name": "Python 3",
   "language": "python",
   "name": "python3"
  },
  "language_info": {
   "codemirror_mode": {
    "name": "ipython",
    "version": 3
   },
   "file_extension": ".py",
   "mimetype": "text/x-python",
   "name": "python",
   "nbconvert_exporter": "python",
   "pygments_lexer": "ipython3",
   "version": "3.9.6"
  }
 },
 "nbformat": 4,
 "nbformat_minor": 5
}
